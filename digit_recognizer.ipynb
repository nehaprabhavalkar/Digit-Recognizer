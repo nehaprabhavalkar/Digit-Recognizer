{
  "nbformat": 4,
  "nbformat_minor": 0,
  "metadata": {
    "colab": {
      "name": "digit_recognizer.ipynb",
      "provenance": [],
      "collapsed_sections": []
    },
    "kernelspec": {
      "name": "python3",
      "display_name": "Python 3"
    }
  },
  "cells": [
    {
      "cell_type": "code",
      "metadata": {
        "id": "aVDHWqwDbiBO",
        "colab_type": "code",
        "colab": {}
      },
      "source": [
        "# importing libraries\n",
        "import numpy as np\n",
        "import pandas as pd \n",
        "import matplotlib.pyplot as plt\n",
        "import seaborn as sns\n",
        "import warnings\n",
        "warnings.filterwarnings('ignore')\n",
        "from sklearn.model_selection import train_test_split\n",
        "from keras.models import Sequential\n",
        "from keras.layers import Dense\n",
        "from keras.layers import Flatten, Conv2D, MaxPool2D, Dropout \n",
        "from keras.utils import np_utils\n",
        "from keras.optimizers import Adam\n",
        "from keras.preprocessing.image import ImageDataGenerator"
      ],
      "execution_count": 25,
      "outputs": []
    },
    {
      "cell_type": "code",
      "metadata": {
        "id": "4dRpO45Ybw25",
        "colab_type": "code",
        "colab": {}
      },
      "source": [
        "# reading dataset\n",
        "train_data = pd.read_csv('/content/drive/My Drive/train.csv')\n",
        "test_data = pd.read_csv('/content/drive/My Drive/test.csv')"
      ],
      "execution_count": 26,
      "outputs": []
    },
    {
      "cell_type": "code",
      "metadata": {
        "id": "-tQB2Yqq39Tn",
        "colab_type": "code",
        "colab": {
          "base_uri": "https://localhost:8080/",
          "height": 221
        },
        "outputId": "c3e0eb67-0d11-4d86-a081-ba17b12e177b"
      },
      "source": [
        "# checking for null values\n",
        "train_data.isnull().sum()"
      ],
      "execution_count": 31,
      "outputs": [
        {
          "output_type": "execute_result",
          "data": {
            "text/plain": [
              "label       0\n",
              "pixel0      0\n",
              "pixel1      0\n",
              "pixel2      0\n",
              "pixel3      0\n",
              "           ..\n",
              "pixel779    0\n",
              "pixel780    0\n",
              "pixel781    0\n",
              "pixel782    0\n",
              "pixel783    0\n",
              "Length: 785, dtype: int64"
            ]
          },
          "metadata": {
            "tags": []
          },
          "execution_count": 31
        }
      ]
    },
    {
      "cell_type": "code",
      "metadata": {
        "id": "PNbAWFqe4Avr",
        "colab_type": "code",
        "colab": {
          "base_uri": "https://localhost:8080/",
          "height": 221
        },
        "outputId": "ca8d9014-c3c9-4732-b230-358d3c6dbec7"
      },
      "source": [
        "test_data.isnull().sum()"
      ],
      "execution_count": 32,
      "outputs": [
        {
          "output_type": "execute_result",
          "data": {
            "text/plain": [
              "pixel0      0\n",
              "pixel1      0\n",
              "pixel2      0\n",
              "pixel3      0\n",
              "pixel4      0\n",
              "           ..\n",
              "pixel779    0\n",
              "pixel780    0\n",
              "pixel781    0\n",
              "pixel782    0\n",
              "pixel783    0\n",
              "Length: 784, dtype: int64"
            ]
          },
          "metadata": {
            "tags": []
          },
          "execution_count": 32
        }
      ]
    },
    {
      "cell_type": "code",
      "metadata": {
        "id": "nvHaz-t-2usf",
        "colab_type": "code",
        "colab": {
          "base_uri": "https://localhost:8080/",
          "height": 279
        },
        "outputId": "d864abd3-668e-4681-f3d7-cd35cf4ec64e"
      },
      "source": [
        "# count of digits per class (0-9)\n",
        "count_plot = sns.countplot(train_data['label'])"
      ],
      "execution_count": 29,
      "outputs": [
        {
          "output_type": "display_data",
          "data": {
            "image/png": "[encoded data removed]",
            "text/plain": [
              "<Figure size 432x288 with 1 Axes>"
            ]
          },
          "metadata": {
            "tags": [],
            "needs_background": "light"
          }
        }
      ]
    },
    {
      "cell_type": "code",
      "metadata": {
        "id": "CnVlXY8Hem9S",
        "colab_type": "code",
        "colab": {}
      },
      "source": [
        "# dependent feaature (y) and independent features (X)\n",
        "X = train_data.iloc[:,1:]\n",
        "y = train_data.iloc[:,0]\n",
        "test_X = test_data"
      ],
      "execution_count": 42,
      "outputs": []
    },
    {
      "cell_type": "code",
      "metadata": {
        "id": "FfsEFDPRerod",
        "colab_type": "code",
        "colab": {}
      },
      "source": [
        "# splitting into training and validation set\n",
        "X_train , X_test , Y_train , Y_test = train_test_split(X,y,test_size=0.2,random_state = 0)"
      ],
      "execution_count": 43,
      "outputs": []
    },
    {
      "cell_type": "code",
      "metadata": {
        "id": "YeM5PreHxBOg",
        "colab_type": "code",
        "colab": {}
      },
      "source": [
        "# changing datatype to float for normalization purpose\n",
        "X_train = X_train.astype('float32')\n",
        "X_test = X_test.astype('float32')\n",
        "test_X = test_X.astype('float32')"
      ],
      "execution_count": 44,
      "outputs": []
    },
    {
      "cell_type": "code",
      "metadata": {
        "id": "wqvl2Wb4eudV",
        "colab_type": "code",
        "colab": {}
      },
      "source": [
        "# normalization - each pixel will have value between 0 to 1 when divided by 255\n",
        "X_train = X_train / 255.0\n",
        "X_test = X_test / 255.0 \n",
        "test_X = test_X / 255.0"
      ],
      "execution_count": 45,
      "outputs": []
    },
    {
      "cell_type": "code",
      "metadata": {
        "id": "q2mwZXh86U-k",
        "colab_type": "code",
        "colab": {}
      },
      "source": [
        "# converting into numpy arrays \n",
        "X_train = X_train.to_numpy()\n",
        "X_test = X_test.to_numpy()\n",
        "test_X = test_X.to_numpy()"
      ],
      "execution_count": 47,
      "outputs": []
    },
    {
      "cell_type": "code",
      "metadata": {
        "id": "AHfmRx2Ge2Ff",
        "colab_type": "code",
        "colab": {}
      },
      "source": [
        "# reshaping the arrays into arrays of 28x28 with one channel\n",
        "X_train = X_train.reshape(-1,28,28,1)\n",
        "X_test = X_test.reshape(-1,28,28,1)\n",
        "test_X = test_X.reshape(-1,28,28,1)"
      ],
      "execution_count": 48,
      "outputs": []
    },
    {
      "cell_type": "code",
      "metadata": {
        "id": "MDOPqZlee5Ig",
        "colab_type": "code",
        "colab": {}
      },
      "source": [
        "# converting categorical labels to one hot encoded labels\n",
        "Y_train = np_utils.to_categorical(Y_train)\n",
        "Y_test = np_utils.to_categorical(Y_test)"
      ],
      "execution_count": 49,
      "outputs": []
    },
    {
      "cell_type": "code",
      "metadata": {
        "id": "QMZ7jlPFe77J",
        "colab_type": "code",
        "colab": {}
      },
      "source": [
        "# creating a CNN \n",
        "model = Sequential()\n",
        "model.add(Conv2D(input_shape=(28,28,1),filters=64,kernel_size=(3,3),padding='same', activation='relu'))\n",
        "model.add(Conv2D(filters=64,kernel_size=(3,3),padding='same', activation='relu'))\n",
        "model.add(MaxPool2D(pool_size=(2,2),strides=(2,2)))\n",
        "model.add(Dropout(0.25))\n",
        "\n",
        "model.add(Conv2D(filters=128, kernel_size=(3,3), padding='same', activation='relu'))\n",
        "model.add(Conv2D(filters=128, kernel_size=(3,3), padding='same', activation='relu'))\n",
        "model.add(MaxPool2D(pool_size=(2,2),strides=(2,2)))\n",
        "model.add(Dropout(0.25))\n",
        "\n",
        "model.add(Flatten())\n",
        "model.add(Dense(10, activation='softmax'))\n",
        "\n",
        "opt = Adam()\n",
        "\n",
        "model.compile(optimizer = opt , loss ='categorical_crossentropy', metrics=['accuracy'])"
      ],
      "execution_count": 50,
      "outputs": []
    },
    {
      "cell_type": "code",
      "metadata": {
        "id": "RNqTzztj6QKy",
        "colab_type": "code",
        "colab": {
          "base_uri": "https://localhost:8080/",
          "height": 493
        },
        "outputId": "3b1a9e17-c627-423e-ec21-cfc4ac7fc11c"
      },
      "source": [
        "# structure of our CNN model\n",
        "model.summary()"
      ],
      "execution_count": 51,
      "outputs": [
        {
          "output_type": "stream",
          "text": [
            "Model: \"sequential_1\"\n",
            "_________________________________________________________________\n",
            "Layer (type)                 Output Shape              Param #   \n",
            "=================================================================\n",
            "conv2d_4 (Conv2D)            (None, 28, 28, 64)        640       \n",
            "_________________________________________________________________\n",
            "conv2d_5 (Conv2D)            (None, 28, 28, 64)        36928     \n",
            "_________________________________________________________________\n",
            "max_pooling2d_2 (MaxPooling2 (None, 14, 14, 64)        0         \n",
            "_________________________________________________________________\n",
            "dropout_2 (Dropout)          (None, 14, 14, 64)        0         \n",
            "_________________________________________________________________\n",
            "conv2d_6 (Conv2D)            (None, 14, 14, 128)       73856     \n",
            "_________________________________________________________________\n",
            "conv2d_7 (Conv2D)            (None, 14, 14, 128)       147584    \n",
            "_________________________________________________________________\n",
            "max_pooling2d_3 (MaxPooling2 (None, 7, 7, 128)         0         \n",
            "_________________________________________________________________\n",
            "dropout_3 (Dropout)          (None, 7, 7, 128)         0         \n",
            "_________________________________________________________________\n",
            "flatten_1 (Flatten)          (None, 6272)              0         \n",
            "_________________________________________________________________\n",
            "dense_1 (Dense)              (None, 10)                62730     \n",
            "=================================================================\n",
            "Total params: 321,738\n",
            "Trainable params: 321,738\n",
            "Non-trainable params: 0\n",
            "_________________________________________________________________\n"
          ],
          "name": "stdout"
        }
      ]
    },
    {
      "cell_type": "code",
      "metadata": {
        "id": "2b47HW9BmrPA",
        "colab_type": "code",
        "colab": {}
      },
      "source": [
        "# performing image data augmentation\n",
        "datagen = ImageDataGenerator(\n",
        "        rotation_range=10,\n",
        "        width_shift_range=0.1,\n",
        "        height_shift_range=0.1,\n",
        "        shear_range=0.1,\n",
        "        zoom_range=0.1,\n",
        "        fill_mode='nearest',  \n",
        "        horizontal_flip=True,  \n",
        "        vertical_flip=True)  \n",
        "\n",
        "datagen.fit(X_train)"
      ],
      "execution_count": 54,
      "outputs": []
    },
    {
      "cell_type": "code",
      "metadata": {
        "id": "yjj7Ket5m6Ri",
        "colab_type": "code",
        "colab": {
          "base_uri": "https://localhost:8080/",
          "height": 357
        },
        "outputId": "445f4b7d-6a45-4d15-f6bf-e44a786a3b88"
      },
      "source": [
        "# training the model\n",
        "fit_model = model.fit(datagen.flow(X_train,Y_train, batch_size=500),\n",
        "                              epochs = 10, validation_data = (X_test,Y_test),\n",
        "                              verbose = 2)"
      ],
      "execution_count": 58,
      "outputs": [
        {
          "output_type": "stream",
          "text": [
            "Epoch 1/10\n",
            "68/68 - 380s - loss: 0.3261 - accuracy: 0.8942 - val_loss: 0.2043 - val_accuracy: 0.9361\n",
            "Epoch 2/10\n",
            "68/68 - 382s - loss: 0.3125 - accuracy: 0.8989 - val_loss: 0.2210 - val_accuracy: 0.9335\n",
            "Epoch 3/10\n",
            "68/68 - 379s - loss: 0.2930 - accuracy: 0.9032 - val_loss: 0.2052 - val_accuracy: 0.9314\n",
            "Epoch 4/10\n",
            "68/68 - 382s - loss: 0.2812 - accuracy: 0.9092 - val_loss: 0.1842 - val_accuracy: 0.9412\n",
            "Epoch 5/10\n",
            "68/68 - 382s - loss: 0.2637 - accuracy: 0.9133 - val_loss: 0.1584 - val_accuracy: 0.9481\n",
            "Epoch 6/10\n",
            "68/68 - 378s - loss: 0.2528 - accuracy: 0.9177 - val_loss: 0.1767 - val_accuracy: 0.9436\n",
            "Epoch 7/10\n",
            "68/68 - 382s - loss: 0.2485 - accuracy: 0.9186 - val_loss: 0.1563 - val_accuracy: 0.9508\n",
            "Epoch 8/10\n",
            "68/68 - 382s - loss: 0.2375 - accuracy: 0.9215 - val_loss: 0.1581 - val_accuracy: 0.9492\n",
            "Epoch 9/10\n",
            "68/68 - 379s - loss: 0.2243 - accuracy: 0.9261 - val_loss: 0.1385 - val_accuracy: 0.9585\n",
            "Epoch 10/10\n",
            "68/68 - 382s - loss: 0.2253 - accuracy: 0.9276 - val_loss: 0.1749 - val_accuracy: 0.9436\n"
          ],
          "name": "stdout"
        }
      ]
    },
    {
      "cell_type": "code",
      "metadata": {
        "id": "oplxCyul7ioa",
        "colab_type": "code",
        "colab": {
          "base_uri": "https://localhost:8080/",
          "height": 295
        },
        "outputId": "3d80861f-d04e-4b3c-ba04-ab3ecd42c24e"
      },
      "source": [
        "# plotting training and validation accuracy vs number of epochs\n",
        "acc = fit_model.history['accuracy']\n",
        "val_acc = fit_model.history['val_accuracy']\n",
        "epochs = range(1, len(acc) + 1)\n",
        "plt.title('Training and Validation accuracy')\n",
        "plt.plot(epochs, acc, 'blue')\n",
        "plt.xlabel('No of Epochs')\n",
        "plt.plot(epochs, val_acc, 'red')\n",
        "plt.ylabel('Accuracy')\n",
        "plt.show()"
      ],
      "execution_count": 59,
      "outputs": [
        {
          "output_type": "display_data",
          "data": {
            "image/png": "[encoded data removed]",
            "text/plain": [
              "<Figure size 432x288 with 1 Axes>"
            ]
          },
          "metadata": {
            "tags": [],
            "needs_background": "light"
          }
        }
      ]
    },
    {
      "cell_type": "code",
      "metadata": {
        "id": "32JP0Bo8lxyJ",
        "colab_type": "code",
        "colab": {}
      },
      "source": [
        "# performing prediction on test data\n",
        "ypred = model.predict_classes(test_X>0.5)"
      ],
      "execution_count": 81,
      "outputs": []
    },
    {
      "cell_type": "code",
      "metadata": {
        "id": "U-M5iugrlVIC",
        "colab_type": "code",
        "colab": {}
      },
      "source": [
        "# preparing output dataframe\n",
        "results = pd.Series(ypred,name='Label')\n",
        "output = pd.concat([pd.Series(range(1,28001),name = 'ImageId'),results],axis = 1)\n",
        "output.to_csv('digit_recognizer.csv',index=False)"
      ],
      "execution_count": 82,
      "outputs": []
    }
  ]
}