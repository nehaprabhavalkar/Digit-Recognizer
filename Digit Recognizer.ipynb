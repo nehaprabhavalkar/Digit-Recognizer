{
 "cells": [
  {
   "cell_type": "markdown",
   "metadata": {},
   "source": [
    "importing libraries"
   ]
  },
  {
   "cell_type": "code",
   "execution_count": 3,
   "metadata": {},
   "outputs": [],
   "source": [
    "import numpy as np\n",
    "import pandas as pd \n",
    "import matplotlib.pyplot as plt\n",
    "from sklearn.model_selection import train_test_split\n",
    "import keras\n",
    "from keras.models import Sequential\n",
    "from keras.layers import Dense\n",
    "from keras.layers import Flatten, Conv2D, MaxPool2D\n",
    "from keras.layers import Dropout\n",
    "from keras.utils import np_utils"
   ]
  },
  {
   "cell_type": "markdown",
   "metadata": {},
   "source": [
    "loading dataset"
   ]
  },
  {
   "cell_type": "code",
   "execution_count": 4,
   "metadata": {},
   "outputs": [],
   "source": [
    "train_data = pd.read_csv('C:/Users/Neha/Desktop/Downloads/digits/train.csv')\n",
    "test_data = pd.read_csv('C:/Users/Neha/Desktop/Downloads/digits/test.csv')"
   ]
  },
  {
   "cell_type": "markdown",
   "metadata": {},
   "source": [
    "selecting independent and target features "
   ]
  },
  {
   "cell_type": "code",
   "execution_count": 5,
   "metadata": {},
   "outputs": [],
   "source": [
    "X = train_data.iloc[:,1:]\n",
    "y = train_data.iloc[:,0]\n",
    "test_X = test_data"
   ]
  },
  {
   "cell_type": "markdown",
   "metadata": {},
   "source": [
    "splitting into training and testing dataset"
   ]
  },
  {
   "cell_type": "code",
   "execution_count": 6,
   "metadata": {},
   "outputs": [],
   "source": [
    "X_train , X_test , Y_train , Y_test = train_test_split(X,y,test_size=0.2,random_state = 0)"
   ]
  },
  {
   "cell_type": "markdown",
   "metadata": {},
   "source": [
    "normalization into values ranging from 0 to 1"
   ]
  },
  {
   "cell_type": "code",
   "execution_count": 7,
   "metadata": {},
   "outputs": [],
   "source": [
    "X_train = X_train / 255.0\n",
    "X_test = X_test / 255.0 \n",
    "test_X = test_X / 255.0"
   ]
  },
  {
   "cell_type": "markdown",
   "metadata": {},
   "source": [
    "converting to numpy arrays"
   ]
  },
  {
   "cell_type": "code",
   "execution_count": 8,
   "metadata": {},
   "outputs": [],
   "source": [
    "X_train = X_train.to_numpy()\n",
    "X_test = X_test.to_numpy()\n",
    "test_X = test_X.to_numpy()"
   ]
  },
  {
   "cell_type": "markdown",
   "metadata": {},
   "source": [
    "reshaping into size of 28,28,1 "
   ]
  },
  {
   "cell_type": "code",
   "execution_count": 9,
   "metadata": {},
   "outputs": [],
   "source": [
    "X_train = X_train.reshape(-1,28,28,1)\n",
    "X_test = X_test.reshape(-1,28,28,1)\n",
    "test_X = test_X.reshape(-1,28,28,1)"
   ]
  },
  {
   "cell_type": "markdown",
   "metadata": {},
   "source": [
    "converting into categorical variables "
   ]
  },
  {
   "cell_type": "code",
   "execution_count": 10,
   "metadata": {},
   "outputs": [],
   "source": [
    "Y_train = np_utils.to_categorical(Y_train)\n",
    "Y_test = np_utils.to_categorical(Y_test)"
   ]
  },
  {
   "cell_type": "markdown",
   "metadata": {},
   "source": [
    "creating CNN model "
   ]
  },
  {
   "cell_type": "code",
   "execution_count": 11,
   "metadata": {},
   "outputs": [],
   "source": [
    "model = Sequential()\n",
    "model.add(Conv2D(filters = 32, kernel_size = (5,5),padding = 'Same',activation ='relu', input_shape = (28,28,1)))\n",
    "model.add(Conv2D(filters = 32, kernel_size = (5,5),padding = 'Same',activation ='relu'))\n",
    "model.add(MaxPool2D(pool_size=(2,2)))\n",
    "model.add(Dropout(0.25))\n",
    "model.add(Conv2D(filters = 64, kernel_size = (3,3),padding = 'Same',activation ='relu'))\n",
    "model.add(Conv2D(filters = 64, kernel_size = (3,3),padding = 'Same', activation ='relu'))\n",
    "model.add(MaxPool2D(pool_size=(2,2), strides=(2,2)))\n",
    "model.add(Dropout(0.25))\n",
    "model.add(Flatten())\n",
    "model.add(Dense(256, activation = \"relu\"))\n",
    "model.add(Dense(10, activation = \"softmax\"))\n",
    "model.compile(optimizer = 'adam' , loss = \"categorical_crossentropy\", metrics=[\"accuracy\"])"
   ]
  },
  {
   "cell_type": "markdown",
   "metadata": {},
   "source": [
    "fitting the model "
   ]
  },
  {
   "cell_type": "code",
   "execution_count": 12,
   "metadata": {},
   "outputs": [
    {
     "name": "stdout",
     "output_type": "stream",
     "text": [
      "Train on 22511 samples, validate on 11089 samples\n",
      "Epoch 1/10\n",
      " - 290s - loss: 0.2913 - accuracy: 0.9058 - val_loss: 0.0915 - val_accuracy: 0.9726\n",
      "Epoch 2/10\n",
      " - 309s - loss: 0.0702 - accuracy: 0.9772 - val_loss: 0.0715 - val_accuracy: 0.9779\n",
      "Epoch 3/10\n",
      " - 316s - loss: 0.0479 - accuracy: 0.9849 - val_loss: 0.0616 - val_accuracy: 0.9836\n",
      "Epoch 4/10\n",
      " - 319s - loss: 0.0396 - accuracy: 0.9872 - val_loss: 0.0502 - val_accuracy: 0.9872\n",
      "Epoch 5/10\n",
      " - 317s - loss: 0.0320 - accuracy: 0.9891 - val_loss: 0.0470 - val_accuracy: 0.9873\n",
      "Epoch 6/10\n",
      " - 316s - loss: 0.0249 - accuracy: 0.9926 - val_loss: 0.0487 - val_accuracy: 0.9872\n",
      "Epoch 7/10\n",
      " - 320s - loss: 0.0221 - accuracy: 0.9926 - val_loss: 0.0477 - val_accuracy: 0.9868\n",
      "Epoch 8/10\n",
      " - 379s - loss: 0.0224 - accuracy: 0.9922 - val_loss: 0.0526 - val_accuracy: 0.9861\n",
      "Epoch 9/10\n",
      " - 324s - loss: 0.0170 - accuracy: 0.9945 - val_loss: 0.0422 - val_accuracy: 0.9894\n",
      "Epoch 10/10\n",
      " - 330s - loss: 0.0152 - accuracy: 0.9950 - val_loss: 0.0576 - val_accuracy: 0.9865\n",
      "Baseline Error 1.17%\n"
     ]
    }
   ],
   "source": [
    "model.fit(X_train, Y_train, validation_split=0.33, epochs=10, batch_size=100, verbose=2)\n",
    "scores = model.evaluate(X_test, Y_test, verbose=0)\n",
    "print(\"Baseline Error %.2f%%\" % (100-scores[1]*100))"
   ]
  },
  {
   "cell_type": "markdown",
   "metadata": {},
   "source": [
    "predicting test data "
   ]
  },
  {
   "cell_type": "code",
   "execution_count": 13,
   "metadata": {},
   "outputs": [],
   "source": [
    "ynew = model.predict_classes(test_X)"
   ]
  },
  {
   "cell_type": "markdown",
   "metadata": {},
   "source": [
    "saving output into csv file "
   ]
  },
  {
   "cell_type": "code",
   "execution_count": 14,
   "metadata": {},
   "outputs": [],
   "source": [
    "pred=pd.DataFrame(ynew)\n",
    "sub_df=pd.read_csv('C:/Users/Neha/Desktop/Downloads/sample_submission (1).csv')\n",
    "datasets=pd.concat([sub_df['ImageId'],pred],axis=1)\n",
    "datasets.columns=['ImageId','Label']\n",
    "datasets.to_csv('sample_submissioncnn.csv',index=False)"
   ]
  }
 ],
 "metadata": {
  "kernelspec": {
   "display_name": "Python 3",
   "language": "python",
   "name": "python3"
  },
  "language_info": {
   "codemirror_mode": {
    "name": "ipython",
    "version": 3
   },
   "file_extension": ".py",
   "mimetype": "text/x-python",
   "name": "python",
   "nbconvert_exporter": "python",
   "pygments_lexer": "ipython3",
   "version": "3.7.6"
  }
 },
 "nbformat": 4,
 "nbformat_minor": 4
}
